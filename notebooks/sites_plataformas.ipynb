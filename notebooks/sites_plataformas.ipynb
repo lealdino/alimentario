{
 "cells": [
  {
   "cell_type": "code",
   "execution_count": 1,
   "metadata": {},
   "outputs": [],
   "source": [
    "from pandas import DataFrame\n",
    "import requests\n",
    "import json\n",
    "import base64\n",
    "import pandas as pd\n",
    "import io"
   ]
  },
  {
   "cell_type": "code",
   "execution_count": 2,
   "metadata": {},
   "outputs": [
    {
     "name": "stderr",
     "output_type": "stream",
     "text": [
      "c:\\Users\\pedro\\.conda\\envs\\p39\\lib\\site-packages\\urllib3\\connectionpool.py:1013: InsecureRequestWarning: Unverified HTTPS request is being made to host 'pb.utfpr.edu.br'. Adding certificate verification is strongly advised. See: https://urllib3.readthedocs.io/en/1.26.x/advanced-usage.html#ssl-warnings\n",
      "  warnings.warn(\n"
     ]
    }
   ],
   "source": [
    "url = \"https://pb.utfpr.edu.br/geppadem/alimentario/index.php/admin/remotecontrol\"\n",
    "\n",
    "payload = {\n",
    "    \"method\": \"get_session_key\",\n",
    "    \"id\": 1\n",
    "}\n",
    "headers = {\n",
    "    \"cookie\": \"LS-BFZSAEVMKCPRBIUK=ehvcotsuvgjkoff0n91nn2m3um\",\n",
    "    \"Content-Type\": \"application/json\",\n",
    "    \"User-Agent\": \"Apache-HttpClient/4.2.2 (java 1.5)\"\n",
    "}\n",
    "\n",
    "response = requests.request(\"POST\", url, json=payload, headers=headers, verify=False)\n"
   ]
  },
  {
   "cell_type": "code",
   "execution_count": 3,
   "metadata": {},
   "outputs": [],
   "source": [
    "json_data = json.loads(response.text)"
   ]
  },
  {
   "cell_type": "code",
   "execution_count": 4,
   "metadata": {},
   "outputs": [
    {
     "data": {
      "text/plain": [
       "'9N4~QsnR~n0O8C74hKA6SuaB7X56MYvm'"
      ]
     },
     "execution_count": 4,
     "metadata": {},
     "output_type": "execute_result"
    }
   ],
   "source": [
    "key = json_data[\"result\"]\n",
    "key"
   ]
  },
  {
   "cell_type": "code",
   "execution_count": 5,
   "metadata": {},
   "outputs": [
    {
     "name": "stderr",
     "output_type": "stream",
     "text": [
      "c:\\Users\\pedro\\.conda\\envs\\p39\\lib\\site-packages\\urllib3\\connectionpool.py:1013: InsecureRequestWarning: Unverified HTTPS request is being made to host 'pb.utfpr.edu.br'. Adding certificate verification is strongly advised. See: https://urllib3.readthedocs.io/en/1.26.x/advanced-usage.html#ssl-warnings\n",
      "  warnings.warn(\n"
     ]
    }
   ],
   "source": [
    "import requests\n",
    "\n",
    "url = \"https://pb.utfpr.edu.br/geppadem/alimentario/index.php/admin/remotecontrol\"\n",
    "\n",
    "payload = {\n",
    "    \"method\": \"export_responses\",\n",
    "    \"params\": [key, \"449925\", \"csv\", None, \"complete\",\"code\", \"long\"],\n",
    "    \"id\": 1\n",
    "}\n",
    "headers = {\n",
    "    \"cookie\": \"LS-BFZSAEVMKCPRBIUK=ehvcotsuvgjkoff0n91nn2m3um\",\n",
    "    \"Content-Type\": \"application/json\",\n",
    "    \"User-Agent\": \"insomnia/2023.5.8\"\n",
    "}\n",
    "\n",
    "responseSurvey = requests.request(\"POST\", url, json=payload, headers=headers, verify=False)\n",
    "\n"
   ]
  },
  {
   "cell_type": "code",
   "execution_count": 6,
   "metadata": {},
   "outputs": [],
   "source": [
    "json_data = json.loads(responseSurvey.text)"
   ]
  },
  {
   "cell_type": "code",
   "execution_count": 7,
   "metadata": {},
   "outputs": [],
   "source": [
    "survey = json_data[\"result\"]\n",
    "\n",
    "surveyDecode = base64.b64decode(survey).decode(\"utf-8\")"
   ]
  },
  {
   "cell_type": "code",
   "execution_count": 8,
   "metadata": {},
   "outputs": [
    {
     "data": {
      "text/html": [
       "<div>\n",
       "<style scoped>\n",
       "    .dataframe tbody tr th:only-of-type {\n",
       "        vertical-align: middle;\n",
       "    }\n",
       "\n",
       "    .dataframe tbody tr th {\n",
       "        vertical-align: top;\n",
       "    }\n",
       "\n",
       "    .dataframe thead th {\n",
       "        text-align: right;\n",
       "    }\n",
       "</style>\n",
       "<table border=\"1\" class=\"dataframe\">\n",
       "  <thead>\n",
       "    <tr style=\"text-align: right;\">\n",
       "      <th></th>\n",
       "      <th>id</th>\n",
       "      <th>submitdate</th>\n",
       "      <th>lastpage</th>\n",
       "      <th>startlanguage</th>\n",
       "      <th>seed</th>\n",
       "      <th>startdate</th>\n",
       "      <th>datestamp</th>\n",
       "      <th>ipaddr</th>\n",
       "      <th>refurl</th>\n",
       "      <th>G01Q01</th>\n",
       "      <th>...</th>\n",
       "      <th>G03Q24[SQ002]</th>\n",
       "      <th>G03Q24[SQ003]</th>\n",
       "      <th>G03Q24[SQ004]</th>\n",
       "      <th>G03Q24[SQ005]</th>\n",
       "      <th>G03Q24[SQ006]</th>\n",
       "      <th>G03Q24[SQ007]</th>\n",
       "      <th>G03Q25</th>\n",
       "      <th>G03Q26</th>\n",
       "      <th>G03Q27</th>\n",
       "      <th>G03Q27[other]</th>\n",
       "    </tr>\n",
       "  </thead>\n",
       "  <tbody>\n",
       "    <tr>\n",
       "      <th>0</th>\n",
       "      <td>105</td>\n",
       "      <td>2023-11-08 08:41:50</td>\n",
       "      <td>1</td>\n",
       "      <td>pt-BR</td>\n",
       "      <td>1027243338</td>\n",
       "      <td>2023-11-06 13:40:14</td>\n",
       "      <td>2023-11-08 08:41:50</td>\n",
       "      <td>177.8.150.229</td>\n",
       "      <td>NaN</td>\n",
       "      <td>Alimento de Origem</td>\n",
       "      <td>...</td>\n",
       "      <td>Sim</td>\n",
       "      <td>Não</td>\n",
       "      <td>Não</td>\n",
       "      <td>Não</td>\n",
       "      <td>Não</td>\n",
       "      <td>Não</td>\n",
       "      <td>a maior parte das vendas ocorre por meio da pl...</td>\n",
       "      <td>a plataforma/site se viabiliza financeiramente...</td>\n",
       "      <td>Até R$ 5.000,00</td>\n",
       "      <td>NaN</td>\n",
       "    </tr>\n",
       "    <tr>\n",
       "      <th>1</th>\n",
       "      <td>144</td>\n",
       "      <td>2023-11-20 09:18:30</td>\n",
       "      <td>1</td>\n",
       "      <td>pt-BR</td>\n",
       "      <td>1878176514</td>\n",
       "      <td>2023-11-20 08:47:31</td>\n",
       "      <td>2023-11-20 09:18:30</td>\n",
       "      <td>187.60.220.234</td>\n",
       "      <td>NaN</td>\n",
       "      <td>Cesta Saudável</td>\n",
       "      <td>...</td>\n",
       "      <td>Não</td>\n",
       "      <td>Sim</td>\n",
       "      <td>Não</td>\n",
       "      <td>Não</td>\n",
       "      <td>Não</td>\n",
       "      <td>Não</td>\n",
       "      <td>a maioria das vendas ocorre por meio de mercad...</td>\n",
       "      <td>a plataforma/site se viabiliza financeiramente...</td>\n",
       "      <td>Até R$ 5.000,00</td>\n",
       "      <td>NaN</td>\n",
       "    </tr>\n",
       "  </tbody>\n",
       "</table>\n",
       "<p>2 rows × 101 columns</p>\n",
       "</div>"
      ],
      "text/plain": [
       "    id           submitdate  lastpage startlanguage        seed  \\\n",
       "0  105  2023-11-08 08:41:50         1         pt-BR  1027243338   \n",
       "1  144  2023-11-20 09:18:30         1         pt-BR  1878176514   \n",
       "\n",
       "             startdate            datestamp          ipaddr  refurl  \\\n",
       "0  2023-11-06 13:40:14  2023-11-08 08:41:50   177.8.150.229     NaN   \n",
       "1  2023-11-20 08:47:31  2023-11-20 09:18:30  187.60.220.234     NaN   \n",
       "\n",
       "               G01Q01  ... G03Q24[SQ002]  G03Q24[SQ003] G03Q24[SQ004]  \\\n",
       "0  Alimento de Origem  ...           Sim            Não           Não   \n",
       "1      Cesta Saudável  ...           Não            Sim           Não   \n",
       "\n",
       "  G03Q24[SQ005] G03Q24[SQ006] G03Q24[SQ007]  \\\n",
       "0           Não           Não           Não   \n",
       "1           Não           Não           Não   \n",
       "\n",
       "                                              G03Q25  \\\n",
       "0  a maior parte das vendas ocorre por meio da pl...   \n",
       "1  a maioria das vendas ocorre por meio de mercad...   \n",
       "\n",
       "                                              G03Q26           G03Q27  \\\n",
       "0  a plataforma/site se viabiliza financeiramente...  Até R$ 5.000,00   \n",
       "1  a plataforma/site se viabiliza financeiramente...  Até R$ 5.000,00   \n",
       "\n",
       "  G03Q27[other]  \n",
       "0           NaN  \n",
       "1           NaN  \n",
       "\n",
       "[2 rows x 101 columns]"
      ]
     },
     "execution_count": 8,
     "metadata": {},
     "output_type": "execute_result"
    }
   ],
   "source": [
    "df = pd.read_csv(io.StringIO(surveyDecode), sep=\";\")\n",
    "df"
   ]
  },
  {
   "cell_type": "code",
   "execution_count": null,
   "metadata": {},
   "outputs": [],
   "source": []
  }
 ],
 "metadata": {
  "kernelspec": {
   "display_name": "Python 3",
   "language": "python",
   "name": "python3"
  },
  "language_info": {
   "codemirror_mode": {
    "name": "ipython",
    "version": 3
   },
   "file_extension": ".py",
   "mimetype": "text/x-python",
   "name": "python",
   "nbconvert_exporter": "python",
   "pygments_lexer": "ipython3",
   "version": "3.9.16"
  },
  "orig_nbformat": 4
 },
 "nbformat": 4,
 "nbformat_minor": 2
}
