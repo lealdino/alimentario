{
 "cells": [
  {
   "cell_type": "code",
   "execution_count": null,
   "metadata": {},
   "outputs": [],
   "source": [
    "from pandas import DataFrame\n",
    "import requests\n",
    "import json\n",
    "import base64\n",
    "import pandas as pd\n",
    "import io"
   ]
  },
  {
   "cell_type": "code",
   "execution_count": null,
   "metadata": {},
   "outputs": [],
   "source": [
    "url = \"https://pb.utfpr.edu.br/geppadem/alimentario/index.php/admin/remotecontrol\"\n",
    "\n",
    "payload = {\n",
    "    \"method\": \"get_session_key\",\n",
    "    \"params\": [\"ppgdr-pb@utfpr.edu.br\", \"5MnVpxad273a\"],\n",
    "    \"id\": 1\n",
    "}\n",
    "headers = {\n",
    "    \"cookie\": \"LS-BFZSAEVMKCPRBIUK=ehvcotsuvgjkoff0n91nn2m3um\",\n",
    "    \"Content-Type\": \"application/json\",\n",
    "    \"User-Agent\": \"Apache-HttpClient/4.2.2 (java 1.5)\"\n",
    "}\n",
    "\n",
    "response = requests.request(\"POST\", url, json=payload, headers=headers, verify=False)\n"
   ]
  },
  {
   "cell_type": "code",
   "execution_count": null,
   "metadata": {},
   "outputs": [],
   "source": [
    "json_data = json.loads(response.text)"
   ]
  },
  {
   "cell_type": "code",
   "execution_count": null,
   "metadata": {},
   "outputs": [],
   "source": [
    "key = json_data[\"result\"]\n",
    "key"
   ]
  },
  {
   "cell_type": "code",
   "execution_count": null,
   "metadata": {},
   "outputs": [],
   "source": [
    "import requests\n",
    "\n",
    "url = \"https://pb.utfpr.edu.br/geppadem/alimentario/index.php/admin/remotecontrol\"\n",
    "\n",
    "payload = {\n",
    "    \"method\": \"export_responses\",\n",
    "    \"params\": [key, \"255458\", \"csv\", None, \"complete\", \"code\", \"long\"],\n",
    "    \"id\": 1\n",
    "}\n",
    "headers = {\n",
    "    \"cookie\": \"LS-BFZSAEVMKCPRBIUK=ehvcotsuvgjkoff0n91nn2m3um\",\n",
    "    \"Content-Type\": \"application/json\",\n",
    "    \"User-Agent\": \"insomnia/2023.5.8\"\n",
    "}\n",
    "\n",
    "responseSurvey = requests.request(\"POST\", url, json=payload, headers=headers, verify=False)\n",
    "\n"
   ]
  },
  {
   "cell_type": "code",
   "execution_count": null,
   "metadata": {},
   "outputs": [],
   "source": [
    "json_data = json.loads(responseSurvey.text)"
   ]
  },
  {
   "cell_type": "code",
   "execution_count": null,
   "metadata": {},
   "outputs": [],
   "source": [
    "survey = json_data[\"result\"]\n",
    "\n",
    "surveyDecode = base64.b64decode(survey).decode(\"utf-8\")"
   ]
  },
  {
   "cell_type": "code",
   "execution_count": null,
   "metadata": {},
   "outputs": [],
   "source": [
    "df = pd.read_csv(io.StringIO(surveyDecode), sep=\";\")\n",
    "df"
   ]
  },
  {
   "cell_type": "code",
   "execution_count": null,
   "metadata": {},
   "outputs": [],
   "source": [
    "df.shape"
   ]
  },
  {
   "cell_type": "code",
   "execution_count": null,
   "metadata": {},
   "outputs": [],
   "source": []
  }
 ],
 "metadata": {
  "kernelspec": {
   "display_name": "Python 3",
   "language": "python",
   "name": "python3"
  },
  "language_info": {
   "codemirror_mode": {
    "name": "ipython",
    "version": 3
   },
   "file_extension": ".py",
   "mimetype": "text/x-python",
   "name": "python",
   "nbconvert_exporter": "python",
   "pygments_lexer": "ipython3",
   "version": "3.9.17"
  },
  "orig_nbformat": 4
 },
 "nbformat": 4,
 "nbformat_minor": 2
}
