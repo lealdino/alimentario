{
 "cells": [
  {
   "cell_type": "code",
   "execution_count": 1,
   "metadata": {},
   "outputs": [],
   "source": [
    "from pandas import DataFrame\n",
    "import requests\n",
    "import json\n",
    "import base64\n",
    "import pandas as pd\n",
    "import io"
   ]
  },
  {
   "cell_type": "code",
   "execution_count": 2,
   "metadata": {},
   "outputs": [
    {
     "name": "stderr",
     "output_type": "stream",
     "text": [
      "c:\\Users\\pedro\\.conda\\envs\\p39\\lib\\site-packages\\urllib3\\connectionpool.py:1013: InsecureRequestWarning: Unverified HTTPS request is being made to host 'pb.utfpr.edu.br'. Adding certificate verification is strongly advised. See: https://urllib3.readthedocs.io/en/1.26.x/advanced-usage.html#ssl-warnings\n",
      "  warnings.warn(\n"
     ]
    }
   ],
   "source": [
    "url = \"https://pb.utfpr.edu.br/geppadem/alimentario/index.php/admin/remotecontrol\"\n",
    "\n",
    "payload = {\n",
    "    \"method\": \"get_session_key\",\n",
    "    \"params\": [\"ppgdr-pb@utfpr.edu.br\", \"5MnVpxad273a\"],\n",
    "    \"id\": 1\n",
    "}\n",
    "headers = {\n",
    "    \"cookie\": \"LS-BFZSAEVMKCPRBIUK=ehvcotsuvgjkoff0n91nn2m3um\",\n",
    "    \"Content-Type\": \"application/json\",\n",
    "    \"User-Agent\": \"Apache-HttpClient/4.2.2 (java 1.5)\"\n",
    "}\n",
    "\n",
    "response = requests.request(\"POST\", url, json=payload, headers=headers, verify=False)\n"
   ]
  },
  {
   "cell_type": "code",
   "execution_count": 3,
   "metadata": {},
   "outputs": [],
   "source": [
    "json_data = json.loads(response.text)"
   ]
  },
  {
   "cell_type": "code",
   "execution_count": 4,
   "metadata": {},
   "outputs": [
    {
     "data": {
      "text/plain": [
       "'H2R08WGcOu0gpER4Mj3qL6hcF2RJaKab'"
      ]
     },
     "execution_count": 4,
     "metadata": {},
     "output_type": "execute_result"
    }
   ],
   "source": [
    "key = json_data[\"result\"]\n",
    "key"
   ]
  },
  {
   "cell_type": "code",
   "execution_count": 5,
   "metadata": {},
   "outputs": [
    {
     "name": "stderr",
     "output_type": "stream",
     "text": [
      "c:\\Users\\pedro\\.conda\\envs\\p39\\lib\\site-packages\\urllib3\\connectionpool.py:1013: InsecureRequestWarning: Unverified HTTPS request is being made to host 'pb.utfpr.edu.br'. Adding certificate verification is strongly advised. See: https://urllib3.readthedocs.io/en/1.26.x/advanced-usage.html#ssl-warnings\n",
      "  warnings.warn(\n"
     ]
    }
   ],
   "source": [
    "import requests\n",
    "\n",
    "url = \"https://pb.utfpr.edu.br/geppadem/alimentario/index.php/admin/remotecontrol\"\n",
    "\n",
    "payload = {\n",
    "    \"method\": \"export_responses\",\n",
    "    \"params\": [key, \"255458\", \"csv\", None, \"complete\", \"code\", \"long\"],\n",
    "    \"id\": 1\n",
    "}\n",
    "headers = {\n",
    "    \"cookie\": \"LS-BFZSAEVMKCPRBIUK=ehvcotsuvgjkoff0n91nn2m3um\",\n",
    "    \"Content-Type\": \"application/json\",\n",
    "    \"User-Agent\": \"insomnia/2023.5.8\"\n",
    "}\n",
    "\n",
    "responseSurvey = requests.request(\"POST\", url, json=payload, headers=headers, verify=False)\n",
    "\n"
   ]
  },
  {
   "cell_type": "code",
   "execution_count": 6,
   "metadata": {},
   "outputs": [],
   "source": [
    "json_data = json.loads(responseSurvey.text)"
   ]
  },
  {
   "cell_type": "code",
   "execution_count": 7,
   "metadata": {},
   "outputs": [],
   "source": [
    "survey = json_data[\"result\"]\n",
    "\n",
    "surveyDecode = base64.b64decode(survey).decode(\"utf-8\")"
   ]
  },
  {
   "cell_type": "code",
   "execution_count": 8,
   "metadata": {},
   "outputs": [
    {
     "data": {
      "text/html": [
       "<div>\n",
       "<style scoped>\n",
       "    .dataframe tbody tr th:only-of-type {\n",
       "        vertical-align: middle;\n",
       "    }\n",
       "\n",
       "    .dataframe tbody tr th {\n",
       "        vertical-align: top;\n",
       "    }\n",
       "\n",
       "    .dataframe thead th {\n",
       "        text-align: right;\n",
       "    }\n",
       "</style>\n",
       "<table border=\"1\" class=\"dataframe\">\n",
       "  <thead>\n",
       "    <tr style=\"text-align: right;\">\n",
       "      <th></th>\n",
       "      <th>id</th>\n",
       "      <th>submitdate</th>\n",
       "      <th>lastpage</th>\n",
       "      <th>startlanguage</th>\n",
       "      <th>seed</th>\n",
       "      <th>startdate</th>\n",
       "      <th>datestamp</th>\n",
       "      <th>ipaddr</th>\n",
       "      <th>G04Q43</th>\n",
       "      <th>G01Q01</th>\n",
       "      <th>...</th>\n",
       "      <th>G03Q40[other]</th>\n",
       "      <th>G03Q41</th>\n",
       "      <th>G03Q42[SQ001]</th>\n",
       "      <th>G03Q42[SQ002]</th>\n",
       "      <th>G03Q42[SQ003]</th>\n",
       "      <th>G03Q42[SQ004]</th>\n",
       "      <th>G03Q42[SQ005]</th>\n",
       "      <th>G03Q42[SQ006]</th>\n",
       "      <th>G03Q42[SQ007]</th>\n",
       "      <th>G03Q42[other]</th>\n",
       "    </tr>\n",
       "  </thead>\n",
       "  <tbody>\n",
       "    <tr>\n",
       "      <th>0</th>\n",
       "      <td>26</td>\n",
       "      <td>2023-09-18 12:03:17</td>\n",
       "      <td>1</td>\n",
       "      <td>pt-BR</td>\n",
       "      <td>NaN</td>\n",
       "      <td>2023-09-18 11:57:52</td>\n",
       "      <td>2023-09-18 12:03:17</td>\n",
       "      <td>NaN</td>\n",
       "      <td>Grupo de Consumo do Reconcavo</td>\n",
       "      <td>Letícia Andrea Chechi</td>\n",
       "      <td>...</td>\n",
       "      <td>NaN</td>\n",
       "      <td>Ambas: Banda Larga e Internet móvel</td>\n",
       "      <td>Sim</td>\n",
       "      <td>Sim</td>\n",
       "      <td>Sim</td>\n",
       "      <td>Sim</td>\n",
       "      <td>Sim</td>\n",
       "      <td>NaN</td>\n",
       "      <td>Sim</td>\n",
       "      <td>NaN</td>\n",
       "    </tr>\n",
       "  </tbody>\n",
       "</table>\n",
       "<p>1 rows × 98 columns</p>\n",
       "</div>"
      ],
      "text/plain": [
       "   id           submitdate  lastpage startlanguage  seed            startdate  \\\n",
       "0  26  2023-09-18 12:03:17         1         pt-BR   NaN  2023-09-18 11:57:52   \n",
       "\n",
       "             datestamp  ipaddr                          G04Q43  \\\n",
       "0  2023-09-18 12:03:17     NaN  Grupo de Consumo do Reconcavo    \n",
       "\n",
       "                  G01Q01  ... G03Q40[other]  \\\n",
       "0  Letícia Andrea Chechi  ...           NaN   \n",
       "\n",
       "                                G03Q41 G03Q42[SQ001]  G03Q42[SQ002]  \\\n",
       "0  Ambas: Banda Larga e Internet móvel           Sim            Sim   \n",
       "\n",
       "  G03Q42[SQ003] G03Q42[SQ004] G03Q42[SQ005]  G03Q42[SQ006]  G03Q42[SQ007]  \\\n",
       "0           Sim           Sim           Sim            NaN            Sim   \n",
       "\n",
       "   G03Q42[other]  \n",
       "0            NaN  \n",
       "\n",
       "[1 rows x 98 columns]"
      ]
     },
     "execution_count": 8,
     "metadata": {},
     "output_type": "execute_result"
    }
   ],
   "source": [
    "df = pd.read_csv(io.StringIO(surveyDecode), sep=\";\")\n",
    "df"
   ]
  },
  {
   "cell_type": "code",
   "execution_count": 9,
   "metadata": {},
   "outputs": [
    {
     "data": {
      "text/plain": [
       "(1, 98)"
      ]
     },
     "execution_count": 9,
     "metadata": {},
     "output_type": "execute_result"
    }
   ],
   "source": [
    "df.shape"
   ]
  },
  {
   "cell_type": "code",
   "execution_count": null,
   "metadata": {},
   "outputs": [],
   "source": []
  }
 ],
 "metadata": {
  "kernelspec": {
   "display_name": "Python 3",
   "language": "python",
   "name": "python3"
  },
  "language_info": {
   "codemirror_mode": {
    "name": "ipython",
    "version": 3
   },
   "file_extension": ".py",
   "mimetype": "text/x-python",
   "name": "python",
   "nbconvert_exporter": "python",
   "pygments_lexer": "ipython3",
   "version": "3.9.16"
  },
  "orig_nbformat": 4
 },
 "nbformat": 4,
 "nbformat_minor": 2
}
